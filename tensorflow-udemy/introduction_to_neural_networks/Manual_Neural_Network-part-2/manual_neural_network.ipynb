{
 "cells": [
  {
   "cell_type": "code",
   "execution_count": 21,
   "id": "stainless-tiffany",
   "metadata": {},
   "outputs": [],
   "source": [
    "class SimpleClass():\n",
    "    def __init__(self,name):#constructor of this class\n",
    "        print(\"hello\" + name)\n",
    "        \n",
    "    def yell(self):\n",
    "        print(\"yelling\")"
   ]
  },
  {
   "cell_type": "code",
   "execution_count": 11,
   "id": "continuous-browse",
   "metadata": {
    "scrolled": false
   },
   "outputs": [
    {
     "name": "stdout",
     "output_type": "stream",
     "text": [
      "hello\n",
      "yelling\n"
     ]
    }
   ],
   "source": [
    "x = SimpleClass()\n",
    "x.yell()"
   ]
  },
  {
   "cell_type": "code",
   "execution_count": 22,
   "id": "average-disposition",
   "metadata": {},
   "outputs": [],
   "source": [
    "class ExtendedClass(SimpleClass):\n",
    "    \n",
    "    def __init__(self):\n",
    "        \n",
    "        super().__init__('Jose')\n",
    "        print(\"Extend!\")"
   ]
  },
  {
   "cell_type": "code",
   "execution_count": 23,
   "id": "super-reader",
   "metadata": {},
   "outputs": [
    {
     "name": "stdout",
     "output_type": "stream",
     "text": [
      "helloJose\n",
      "Extend!\n"
     ]
    }
   ],
   "source": [
    "y=ExtendedClass()"
   ]
  },
  {
   "cell_type": "code",
   "execution_count": 15,
   "id": "atlantic-voluntary",
   "metadata": {},
   "outputs": [
    {
     "name": "stdout",
     "output_type": "stream",
     "text": [
      "yelling\n"
     ]
    }
   ],
   "source": [
    "y.yell()"
   ]
  },
  {
   "cell_type": "code",
   "execution_count": 25,
   "id": "standing-india",
   "metadata": {},
   "outputs": [],
   "source": [
    "##operation\n",
    "class Operation():\n",
    "    \n",
    "    def __init__(self,input_nodes=[]):\n",
    "        self.input_nodes = input_nodes\n",
    "        self.output_nodes = []#over riden by class(by operation class)\n",
    "        \n",
    "        #list of output nodes, will be overr riden by class (that is the operation that is going to extend it)\n",
    "        # every node, we will append the operaiton, to the list of the output nodes\n",
    "        \n",
    "        for node in input_nodes:\n",
    "            node.output_nodes.append(self)\n",
    "            \n",
    "        _default_graph.operations.append(self)\n",
    "    def compute(self):#overriddn by a class that inherits operation\n",
    "        pass#place holder method, it is going to be overridden\n",
    "        \n",
    "        "
   ]
  },
  {
   "cell_type": "code",
   "execution_count": 26,
   "id": "historic-typing",
   "metadata": {
    "scrolled": true
   },
   "outputs": [],
   "source": [
    "class add(Operation):\n",
    "    def __init__(self,x,y):\n",
    "        super().__init__([x,y])\n",
    "    \n",
    "    def compute(self,x_var,y_var):\n",
    "        self.inputs=[x_var,y_var]\n",
    "        return x_var+y_var"
   ]
  },
  {
   "cell_type": "code",
   "execution_count": 27,
   "id": "worse-current",
   "metadata": {},
   "outputs": [],
   "source": [
    "class multiply(Operation):\n",
    "    def __init__(self,x,y):\n",
    "        super().__init__([x,y])\n",
    "        \n",
    "    def compute(self,x_var,y_var):\n",
    "        self.inputs=[x_var,y_var]\n",
    "        return x_var*y_var\n",
    "        "
   ]
  },
  {
   "cell_type": "code",
   "execution_count": 28,
   "id": "attractive-documentation",
   "metadata": {},
   "outputs": [],
   "source": [
    "class matmul(Operation):\n",
    "    def __init__(self,x,y):\n",
    "        super().__init__([x,y])\n",
    "    def compute(self,x_var,y_var):\n",
    "        self.inputs = [x_var,y_var]\n",
    "        return x_var.dot(y_var)"
   ]
  },
  {
   "cell_type": "code",
   "execution_count": 29,
   "id": "expressed-legislation",
   "metadata": {},
   "outputs": [],
   "source": [
    "class Placeholder():\n",
    "    \n",
    "    def __init__(self):\n",
    "        self.output_nodes=[]\n",
    "        _default_graph.placeholders.append(self)"
   ]
  },
  {
   "cell_type": "code",
   "execution_count": 30,
   "id": "reserved-arkansas",
   "metadata": {},
   "outputs": [],
   "source": [
    "class Variable():\n",
    "    def __init__(self,initial_value=None):\n",
    "        self.value=initial_value\n",
    "        self.output_nodes=[]\n",
    "        \n",
    "        _default_graph.variables.append(self)\n",
    "        \n",
    "        "
   ]
  },
  {
   "cell_type": "code",
   "execution_count": 31,
   "id": "indoor-administrator",
   "metadata": {},
   "outputs": [],
   "source": [
    "class Graph():\n",
    "    def __init__(self):# tihs is a graph object, #it contains, operaitons, placeholders, and variables\n",
    "        self.operations=[] #\n",
    "        self.placeholders=[] #empty nodes , waiting for getting inputs \n",
    "        self.variables=[] # things, that are changable parameters inside the graph\n",
    "         \n",
    "    def set_as_default(self):\n",
    "        global _default_graph\n",
    "        _default_graph= self"
   ]
  },
  {
   "cell_type": "markdown",
   "id": "surgical-manufacturer",
   "metadata": {},
   "source": [
    "z = Ax + b\n",
    "\n",
    "A = 10\n",
    "\n",
    "b=1\n",
    "\n",
    " z = 10x+ 1"
   ]
  },
  {
   "cell_type": "code",
   "execution_count": 32,
   "id": "vulnerable-event",
   "metadata": {},
   "outputs": [],
   "source": [
    "g = Graph() # graph object\n",
    "g.set_as_default()# set as a default grpah, and it initializes the default_grpah\n"
   ]
  },
  {
   "cell_type": "code",
   "execution_count": 33,
   "id": "frank-seafood",
   "metadata": {},
   "outputs": [],
   "source": [
    "A = Variable(10)\n",
    "b=Variable(1)\n",
    "x=Placeholder()\n"
   ]
  },
  {
   "cell_type": "code",
   "execution_count": 34,
   "id": "boolean-barbados",
   "metadata": {},
   "outputs": [],
   "source": [
    "y = multiply(A,x)"
   ]
  },
  {
   "cell_type": "code",
   "execution_count": 35,
   "id": "located-fisher",
   "metadata": {},
   "outputs": [],
   "source": [
    "z=add(y,b)"
   ]
  },
  {
   "cell_type": "code",
   "execution_count": 36,
   "id": "coupled-berkeley",
   "metadata": {},
   "outputs": [],
   "source": [
    "def traverse_postorder(operation):\n",
    "    \"\"\"\n",
    "    Post Order traversal of nodes, basically makes sure computations are done in the \n",
    "    correct order (Ax first, then Ax+b). Feel free to copy and paste this, it is\n",
    "    not super important for understanding basic fundamentals of deep learning\n",
    "    \"\"\"\n",
    "    \n",
    "    nodes_postorder=[]\n",
    "    def recurse(node):\n",
    "        if isinstance(node,Operation):\n",
    "            for input_node in node.input_nodes:\n",
    "                recurse(input_node)\n",
    "        nodes_postorder.append(node)\n",
    "        \n",
    "    recurse(operation)\n",
    "    return nodes_postorder"
   ]
  },
  {
   "cell_type": "code",
   "execution_count": 37,
   "id": "radio-classics",
   "metadata": {},
   "outputs": [],
   "source": [
    "class Session():\n",
    "    def run(self,operation,feed_dict={}):\n",
    "        #operation itself, is the operation to compute\n",
    "        #feed dictionary: it is a dictionary mapping placeholrders to input values\n",
    "        \n",
    "        #in our graph ,we only have values,\n",
    "        #place holders are still waiting\n",
    "        #feed dict will provide that\n",
    "        #, later , we will feed our networ, with batches of data, with the dictionary\n",
    "        nodes_postorder = traverse_postorder(operation)\n",
    "        for node in nodes_postorder:\n",
    "            if type(node) == Placeholder:\n",
    "                node.output=feed_dict[node]\n",
    "            elif type(node) == Variable:\n",
    "                node.output = node.value\n",
    "            else:#operation\n",
    "                node.inputs= [input_node.output for input_node in node.input_nodes]\n",
    "                \n",
    "                node.output=node.compute(*node.inputs)#* for args, wihtout knowing the number of arguments , or size of input_nodes\n",
    "            \n",
    "            if type(node.output ) == list:\n",
    "                node.output = np.array(node.output)\n",
    "        return operation.output"
   ]
  },
  {
   "cell_type": "code",
   "execution_count": 38,
   "id": "through-margin",
   "metadata": {},
   "outputs": [],
   "source": [
    "sess = Session()"
   ]
  },
  {
   "cell_type": "code",
   "execution_count": 40,
   "id": "gentle-imperial",
   "metadata": {},
   "outputs": [
    {
     "data": {
      "text/plain": [
       "101"
      ]
     },
     "execution_count": 40,
     "metadata": {},
     "output_type": "execute_result"
    }
   ],
   "source": [
    "result = sess.run(operation=z, feed_dict={x:10})\n",
    "result"
   ]
  },
  {
   "cell_type": "code",
   "execution_count": null,
   "id": "sharing-undergraduate",
   "metadata": {},
   "outputs": [],
   "source": [
    "g = Graph()#creaet a graph object\n",
    "g.set_as_default()# seta default graph\n",
    "\n",
    "A = Variable([ [10,20],[30,40]])\n",
    "b=Variable([1,2])"
   ]
  }
 ],
 "metadata": {
  "kernelspec": {
   "display_name": "Python 3",
   "language": "python",
   "name": "python3"
  },
  "language_info": {
   "codemirror_mode": {
    "name": "ipython",
    "version": 3
   },
   "file_extension": ".py",
   "mimetype": "text/x-python",
   "name": "python",
   "nbconvert_exporter": "python",
   "pygments_lexer": "ipython3",
   "version": "3.8.5"
  }
 },
 "nbformat": 4,
 "nbformat_minor": 5
}
