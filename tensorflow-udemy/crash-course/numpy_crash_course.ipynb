{
 "cells": [
  {
   "cell_type": "code",
   "execution_count": 9,
   "id": "collect-muslim",
   "metadata": {},
   "outputs": [],
   "source": [
    "import numpy as np"
   ]
  },
  {
   "cell_type": "code",
   "execution_count": 2,
   "id": "enormous-samoa",
   "metadata": {},
   "outputs": [],
   "source": [
    "my_list = [1,2,3]"
   ]
  },
  {
   "cell_type": "code",
   "execution_count": 4,
   "id": "honest-fellowship",
   "metadata": {},
   "outputs": [
    {
     "data": {
      "text/plain": [
       "numpy.ndarray"
      ]
     },
     "execution_count": 4,
     "metadata": {},
     "output_type": "execute_result"
    }
   ],
   "source": [
    "type(np.array(my_list))\n"
   ]
  },
  {
   "cell_type": "code",
   "execution_count": 6,
   "id": "nearby-boundary",
   "metadata": {},
   "outputs": [
    {
     "data": {
      "text/plain": [
       "array([1, 2, 3])"
      ]
     },
     "execution_count": 6,
     "metadata": {},
     "output_type": "execute_result"
    }
   ],
   "source": [
    "arr = np.array(my_list)\n",
    "arr"
   ]
  },
  {
   "cell_type": "code",
   "execution_count": 10,
   "id": "advance-abuse",
   "metadata": {},
   "outputs": [
    {
     "data": {
      "text/plain": [
       "array([0, 1, 2, 3, 4, 5, 6, 7, 8, 9])"
      ]
     },
     "execution_count": 10,
     "metadata": {},
     "output_type": "execute_result"
    }
   ],
   "source": [
    "#start, stop ,steps, default is 1\n",
    "np.arange(0,10)"
   ]
  },
  {
   "cell_type": "code",
   "execution_count": 14,
   "id": "prepared-mistress",
   "metadata": {},
   "outputs": [
    {
     "data": {
      "text/plain": [
       "array([[0., 0., 0., 0., 0.],\n",
       "       [0., 0., 0., 0., 0.],\n",
       "       [0., 0., 0., 0., 0.]])"
      ]
     },
     "execution_count": 14,
     "metadata": {},
     "output_type": "execute_result"
    }
   ],
   "source": [
    "#1d\n",
    "np.zeros(5)\n",
    "#2d\n",
    "np.zeros((3,5))\n",
    "#numoy converts numbers to floats, to avoid loss of information\n"
   ]
  },
  {
   "cell_type": "code",
   "execution_count": 16,
   "id": "ancient-shadow",
   "metadata": {},
   "outputs": [
    {
     "data": {
      "text/plain": [
       "array([[1., 1., 1., 1., 1., 1., 1., 1.],\n",
       "       [1., 1., 1., 1., 1., 1., 1., 1.],\n",
       "       [1., 1., 1., 1., 1., 1., 1., 1.],\n",
       "       [1., 1., 1., 1., 1., 1., 1., 1.]])"
      ]
     },
     "execution_count": 16,
     "metadata": {},
     "output_type": "execute_result"
    }
   ],
   "source": [
    "np.ones(3)\n",
    "np.ones((4,8))"
   ]
  },
  {
   "cell_type": "code",
   "execution_count": 20,
   "id": "opposite-section",
   "metadata": {},
   "outputs": [
    {
     "data": {
      "text/plain": [
       "array([ 0.        ,  0.12121212,  0.24242424,  0.36363636,  0.48484848,\n",
       "        0.60606061,  0.72727273,  0.84848485,  0.96969697,  1.09090909,\n",
       "        1.21212121,  1.33333333,  1.45454545,  1.57575758,  1.6969697 ,\n",
       "        1.81818182,  1.93939394,  2.06060606,  2.18181818,  2.3030303 ,\n",
       "        2.42424242,  2.54545455,  2.66666667,  2.78787879,  2.90909091,\n",
       "        3.03030303,  3.15151515,  3.27272727,  3.39393939,  3.51515152,\n",
       "        3.63636364,  3.75757576,  3.87878788,  4.        ,  4.12121212,\n",
       "        4.24242424,  4.36363636,  4.48484848,  4.60606061,  4.72727273,\n",
       "        4.84848485,  4.96969697,  5.09090909,  5.21212121,  5.33333333,\n",
       "        5.45454545,  5.57575758,  5.6969697 ,  5.81818182,  5.93939394,\n",
       "        6.06060606,  6.18181818,  6.3030303 ,  6.42424242,  6.54545455,\n",
       "        6.66666667,  6.78787879,  6.90909091,  7.03030303,  7.15151515,\n",
       "        7.27272727,  7.39393939,  7.51515152,  7.63636364,  7.75757576,\n",
       "        7.87878788,  8.        ,  8.12121212,  8.24242424,  8.36363636,\n",
       "        8.48484848,  8.60606061,  8.72727273,  8.84848485,  8.96969697,\n",
       "        9.09090909,  9.21212121,  9.33333333,  9.45454545,  9.57575758,\n",
       "        9.6969697 ,  9.81818182,  9.93939394, 10.06060606, 10.18181818,\n",
       "       10.3030303 , 10.42424242, 10.54545455, 10.66666667, 10.78787879,\n",
       "       10.90909091, 11.03030303, 11.15151515, 11.27272727, 11.39393939,\n",
       "       11.51515152, 11.63636364, 11.75757576, 11.87878788, 12.        ])"
      ]
     },
     "execution_count": 20,
     "metadata": {},
     "output_type": "execute_result"
    }
   ],
   "source": [
    "#start,stop,num=50\n",
    "np.linspace(0,11,10)\n",
    "np.linspace(0,12,100)\n"
   ]
  },
  {
   "cell_type": "code",
   "execution_count": 26,
   "id": "involved-tonight",
   "metadata": {},
   "outputs": [
    {
     "data": {
      "text/plain": [
       "array([[9, 8, 4],\n",
       "       [0, 0, 4],\n",
       "       [0, 8, 3]])"
      ]
     },
     "execution_count": 26,
     "metadata": {},
     "output_type": "execute_result"
    }
   ],
   "source": [
    "#shift + tab to see the arguments\n",
    "# start(inclusive),end(exclusive),dimension\n",
    "np.random.randint(0,10 , (3,3))\n"
   ]
  },
  {
   "cell_type": "code",
   "execution_count": 30,
   "id": "sweet-bundle",
   "metadata": {},
   "outputs": [
    {
     "data": {
      "text/plain": [
       "array([95, 11, 81, 70, 63, 87, 75,  9, 77, 40])"
      ]
     },
     "execution_count": 30,
     "metadata": {},
     "output_type": "execute_result"
    }
   ],
   "source": [
    "# we get the same random numbers , due to random.seed\n",
    "np.random.seed(101)\n",
    "np.random.randint(0,100,10)"
   ]
  },
  {
   "cell_type": "code",
   "execution_count": 36,
   "id": "controversial-disposition",
   "metadata": {},
   "outputs": [],
   "source": [
    "np.random.seed(11)\n",
    "arr = np.random.randint(0,11,10)"
   ]
  },
  {
   "cell_type": "code",
   "execution_count": 42,
   "id": "transparent-onion",
   "metadata": {},
   "outputs": [
    {
     "data": {
      "text/plain": [
       "0"
      ]
     },
     "execution_count": 42,
     "metadata": {},
     "output_type": "execute_result"
    }
   ],
   "source": [
    "arr.max()\n",
    "arr.min()\n",
    "arr.mean()\n",
    "\n",
    "arr.argmax()#returns index location of max value"
   ]
  },
  {
   "cell_type": "code",
   "execution_count": 44,
   "id": "suitable-cargo",
   "metadata": {},
   "outputs": [
    {
     "data": {
      "text/plain": [
       "array([[9, 0, 1, 7, 1],\n",
       "       [7, 2, 8, 0, 0]])"
      ]
     },
     "execution_count": 44,
     "metadata": {},
     "output_type": "execute_result"
    }
   ],
   "source": [
    "#2,5 arr (10 elements)\n",
    "arr.reshape(2,5 )"
   ]
  },
  {
   "cell_type": "code",
   "execution_count": 10,
   "id": "bulgarian-sunday",
   "metadata": {},
   "outputs": [
    {
     "data": {
      "text/plain": [
       "43"
      ]
     },
     "execution_count": 10,
     "metadata": {},
     "output_type": "execute_result"
    }
   ],
   "source": [
    "import numpy as np\n",
    "mat  = np.arange(0,100).reshape(10,10)\n",
    "mat[4,3]"
   ]
  },
  {
   "cell_type": "code",
   "execution_count": 17,
   "id": "honest-dover",
   "metadata": {
    "scrolled": true
   },
   "outputs": [
    {
     "data": {
      "text/plain": [
       "array([0, 1, 2, 3, 4, 5, 6, 7, 8, 9])"
      ]
     },
     "execution_count": 17,
     "metadata": {},
     "output_type": "execute_result"
    }
   ],
   "source": [
    "mat[0,:]"
   ]
  },
  {
   "cell_type": "markdown",
   "id": "scientific-ticket",
   "metadata": {},
   "source": [
    "mat"
   ]
  },
  {
   "cell_type": "code",
   "execution_count": 16,
   "id": "concerned-plaintiff",
   "metadata": {},
   "outputs": [
    {
     "data": {
      "text/plain": [
       "array([[ 0,  1,  2,  3,  4,  5,  6,  7,  8,  9],\n",
       "       [10, 11, 12, 13, 14, 15, 16, 17, 18, 19],\n",
       "       [20, 21, 22, 23, 24, 25, 26, 27, 28, 29],\n",
       "       [30, 31, 32, 33, 34, 35, 36, 37, 38, 39],\n",
       "       [40, 41, 42, 43, 44, 45, 46, 47, 48, 49],\n",
       "       [50, 51, 52, 53, 54, 55, 56, 57, 58, 59],\n",
       "       [60, 61, 62, 63, 64, 65, 66, 67, 68, 69],\n",
       "       [70, 71, 72, 73, 74, 75, 76, 77, 78, 79],\n",
       "       [80, 81, 82, 83, 84, 85, 86, 87, 88, 89],\n",
       "       [90, 91, 92, 93, 94, 95, 96, 97, 98, 99]])"
      ]
     },
     "execution_count": 16,
     "metadata": {},
     "output_type": "execute_result"
    }
   ],
   "source": [
    "mat"
   ]
  },
  {
   "cell_type": "code",
   "execution_count": 18,
   "id": "clean-cartridge",
   "metadata": {},
   "outputs": [
    {
     "data": {
      "text/plain": [
       "array([[ 0,  1,  2],\n",
       "       [10, 11, 12],\n",
       "       [20, 21, 22],\n",
       "       [30, 31, 32],\n",
       "       [40, 41, 42],\n",
       "       [50, 51, 52],\n",
       "       [60, 61, 62],\n",
       "       [70, 71, 72],\n",
       "       [80, 81, 82],\n",
       "       [90, 91, 92]])"
      ]
     },
     "execution_count": 18,
     "metadata": {},
     "output_type": "execute_result"
    }
   ],
   "source": [
    "mat[:,0:3]"
   ]
  },
  {
   "cell_type": "code",
   "execution_count": 19,
   "id": "knowing-moscow",
   "metadata": {},
   "outputs": [
    {
     "data": {
      "text/plain": [
       "array([[ 0,  1,  2,  3,  4,  5,  6,  7,  8,  9],\n",
       "       [10, 11, 12, 13, 14, 15, 16, 17, 18, 19],\n",
       "       [20, 21, 22, 23, 24, 25, 26, 27, 28, 29],\n",
       "       [30, 31, 32, 33, 34, 35, 36, 37, 38, 39],\n",
       "       [40, 41, 42, 43, 44, 45, 46, 47, 48, 49],\n",
       "       [50, 51, 52, 53, 54, 55, 56, 57, 58, 59],\n",
       "       [60, 61, 62, 63, 64, 65, 66, 67, 68, 69],\n",
       "       [70, 71, 72, 73, 74, 75, 76, 77, 78, 79],\n",
       "       [80, 81, 82, 83, 84, 85, 86, 87, 88, 89],\n",
       "       [90, 91, 92, 93, 94, 95, 96, 97, 98, 99]])"
      ]
     },
     "execution_count": 19,
     "metadata": {},
     "output_type": "execute_result"
    }
   ],
   "source": [
    "mat"
   ]
  },
  {
   "cell_type": "code",
   "execution_count": 24,
   "id": "treated-activity",
   "metadata": {},
   "outputs": [
    {
     "data": {
      "text/plain": [
       "array([51, 52, 53, 54, 55, 56, 57, 58, 59, 60, 61, 62, 63, 64, 65, 66, 67,\n",
       "       68, 69, 70, 71, 72, 73, 74, 75, 76, 77, 78, 79, 80, 81, 82, 83, 84,\n",
       "       85, 86, 87, 88, 89, 90, 91, 92, 93, 94, 95, 96, 97, 98, 99])"
      ]
     },
     "execution_count": 24,
     "metadata": {},
     "output_type": "execute_result"
    }
   ],
   "source": [
    "mat > 50\n",
    "my_filter = mat >50\n",
    "mat[my_filter]"
   ]
  },
  {
   "cell_type": "code",
   "execution_count": 22,
   "id": "marine-steal",
   "metadata": {},
   "outputs": [
    {
     "ename": "NameError",
     "evalue": "name 'my_filter' is not defined",
     "output_type": "error",
     "traceback": [
      "\u001b[1;31m---------------------------------------------------------------------------\u001b[0m",
      "\u001b[1;31mNameError\u001b[0m                                 Traceback (most recent call last)",
      "\u001b[1;32m<ipython-input-22-49e567c89e87>\u001b[0m in \u001b[0;36m<module>\u001b[1;34m\u001b[0m\n\u001b[1;32m----> 1\u001b[1;33m \u001b[0mmat\u001b[0m\u001b[1;33m[\u001b[0m\u001b[0mmy_filter\u001b[0m\u001b[1;33m]\u001b[0m\u001b[1;33m\u001b[0m\u001b[1;33m\u001b[0m\u001b[0m\n\u001b[0m",
      "\u001b[1;31mNameError\u001b[0m: name 'my_filter' is not defined"
     ]
    }
   ],
   "source": []
  },
  {
   "cell_type": "code",
   "execution_count": null,
   "id": "subject-fellow",
   "metadata": {},
   "outputs": [],
   "source": []
  }
 ],
 "metadata": {
  "kernelspec": {
   "display_name": "Python 3",
   "language": "python",
   "name": "python3"
  },
  "language_info": {
   "codemirror_mode": {
    "name": "ipython",
    "version": 3
   },
   "file_extension": ".py",
   "mimetype": "text/x-python",
   "name": "python",
   "nbconvert_exporter": "python",
   "pygments_lexer": "ipython3",
   "version": "3.8.5"
  }
 },
 "nbformat": 4,
 "nbformat_minor": 5
}
